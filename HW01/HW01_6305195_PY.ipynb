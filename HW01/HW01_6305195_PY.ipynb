{
 "cells": [
  {
   "cell_type": "markdown",
   "id": "a3d487e5",
   "metadata": {},
   "source": [
    "# Homework1"
   ]
  },
  {
   "cell_type": "markdown",
   "id": "328f1691",
   "metadata": {},
   "source": [
    "## Exercise 1 :"
   ]
  },
  {
   "cell_type": "markdown",
   "id": "ad9d7456",
   "metadata": {},
   "source": [
    "### 1. code of program"
   ]
  },
  {
   "cell_type": "code",
   "execution_count": 61,
   "id": "519f1d46",
   "metadata": {},
   "outputs": [],
   "source": [
    "def faren_cel(F):\n",
    "    return (F-32)/(1.8)"
   ]
  },
  {
   "cell_type": "markdown",
   "id": "085b17f7",
   "metadata": {},
   "source": [
    "### 2. result 10 values"
   ]
  },
  {
   "cell_type": "code",
   "execution_count": 60,
   "id": "455a1e85",
   "metadata": {},
   "outputs": [
    {
     "name": "stdout",
     "output_type": "stream",
     "text": [
      "1 : 185.42 celcius = 85.23 fahrenheit\n",
      "2 : 190.06 celcius = 87.81 fahrenheit\n",
      "3 : 24.61 celcius = -4.11 fahrenheit\n",
      "4 : 28.52 celcius = -1.93 fahrenheit\n",
      "5 : 35.09 celcius = 1.71 fahrenheit\n",
      "6 : 39.40 celcius = 4.11 fahrenheit\n",
      "7 : 7.38 celcius = -13.68 fahrenheit\n",
      "8 : 65.14 celcius = 18.41 fahrenheit\n",
      "9 : 70.50 celcius = 21.39 fahrenheit\n",
      "10 : 124.92 celcius = 51.62 fahrenheit\n"
     ]
    }
   ],
   "source": [
    "from random import sample,uniform\n",
    "\n",
    "for i,j in enumerate([uniform(-10,200) for i in range(10)]):\n",
    "    print(\"{0} : {1:.2f} celcius = {2:.2f} fahrenheit\".format(i+1,j,faren_cel(j)))"
   ]
  },
  {
   "cell_type": "markdown",
   "id": "84bd4047",
   "metadata": {},
   "source": [
    "## Exercise 2 :"
   ]
  },
  {
   "cell_type": "markdown",
   "id": "0115c722",
   "metadata": {},
   "source": [
    "### 1. -(9/4) = -2.25"
   ]
  },
  {
   "cell_type": "markdown",
   "id": "520cd097",
   "metadata": {},
   "source": [
    "![alternatvie text](https://raw.githubusercontent.com/Enfant01/SCMA342/main/HW01/1.png)"
   ]
  },
  {
   "cell_type": "markdown",
   "id": "b1dce92b",
   "metadata": {},
   "source": [
    "![alternatvie text](https://raw.githubusercontent.com/Enfant01/SCMA342/main/HW01/2.png)"
   ]
  },
  {
   "cell_type": "code",
   "execution_count": 3,
   "id": "33bc0c29",
   "metadata": {},
   "outputs": [
    {
     "data": {
      "text/plain": [
       "'11000000000100000000000000000000'"
      ]
     },
     "execution_count": 3,
     "metadata": {},
     "output_type": "execute_result"
    }
   ],
   "source": [
    "import bitstring as bi\n",
    "bi.BitArray(float=-(9/4),length=32).bin"
   ]
  },
  {
   "cell_type": "markdown",
   "id": "191c57da",
   "metadata": {},
   "source": [
    "### 2. (8/9) = 0.8889"
   ]
  },
  {
   "cell_type": "markdown",
   "id": "c2c194e8",
   "metadata": {},
   "source": [
    "![alternatvie text](https://raw.githubusercontent.com/Enfant01/SCMA342/main/HW01/3.png)"
   ]
  },
  {
   "cell_type": "markdown",
   "id": "4a7ddb20",
   "metadata": {},
   "source": [
    "![alternatvie text](https://raw.githubusercontent.com/Enfant01/SCMA342/main/HW01/4.png)"
   ]
  },
  {
   "cell_type": "code",
   "execution_count": 4,
   "id": "0350bce2",
   "metadata": {},
   "outputs": [
    {
     "data": {
      "text/plain": [
       "'00111111011000111000111000111001'"
      ]
     },
     "execution_count": 4,
     "metadata": {},
     "output_type": "execute_result"
    }
   ],
   "source": [
    "import bitstring as bi\n",
    "bi.BitArray(float=8/9,length=32).bin"
   ]
  },
  {
   "cell_type": "markdown",
   "id": "2883561d",
   "metadata": {},
   "source": [
    "## Exercise 3 :"
   ]
  },
  {
   "cell_type": "markdown",
   "id": "b60e49c9",
   "metadata": {},
   "source": [
    "![alternatvie text](https://raw.githubusercontent.com/Enfant01/SCMA342/main/HW01/5.png)"
   ]
  },
  {
   "cell_type": "markdown",
   "id": "0b813fd8",
   "metadata": {},
   "source": [
    "![alternatvie text](https://raw.githubusercontent.com/Enfant01/SCMA342/main/HW01/7.png)"
   ]
  },
  {
   "cell_type": "code",
   "execution_count": 85,
   "id": "836924bb",
   "metadata": {},
   "outputs": [
    {
     "name": "stdout",
     "output_type": "stream",
     "text": [
      "Largest positive integer is 3.4028234663852886e+38\n"
     ]
    }
   ],
   "source": [
    "import numpy as np\n",
    "print(\"Largest positive integer is {}\".format(np.finfo(np.single).max))"
   ]
  }
 ],
 "metadata": {
  "kernelspec": {
   "display_name": "Python 3",
   "language": "python",
   "name": "python3"
  },
  "language_info": {
   "codemirror_mode": {
    "name": "ipython",
    "version": 3
   },
   "file_extension": ".py",
   "mimetype": "text/x-python",
   "name": "python",
   "nbconvert_exporter": "python",
   "pygments_lexer": "ipython3",
   "version": "3.8.8"
  }
 },
 "nbformat": 4,
 "nbformat_minor": 5
}
