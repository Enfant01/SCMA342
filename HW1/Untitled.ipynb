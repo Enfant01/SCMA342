{
 "cells": [
  {
   "cell_type": "markdown",
   "id": "07c7b41f",
   "metadata": {},
   "source": [
    "# Homework1"
   ]
  },
  {
   "cell_type": "markdown",
   "id": "31d1c198",
   "metadata": {},
   "source": [
    "## Exercise 1 :"
   ]
  },
  {
   "cell_type": "markdown",
   "id": "30064f5c",
   "metadata": {},
   "source": [
    "### 1. code of program"
   ]
  },
  {
   "cell_type": "code",
   "execution_count": 61,
   "id": "cf2f1398",
   "metadata": {},
   "outputs": [],
   "source": [
    "def faren_cel(F):\n",
    "    return (F-32)/(1.8)"
   ]
  },
  {
   "cell_type": "markdown",
   "id": "655fc440",
   "metadata": {},
   "source": [
    "### 2. result 10 values"
   ]
  },
  {
   "cell_type": "code",
   "execution_count": 60,
   "id": "87fcbccd",
   "metadata": {},
   "outputs": [
    {
     "name": "stdout",
     "output_type": "stream",
     "text": [
      "1 : 185.42 celcius = 85.23 fahrenheit\n",
      "2 : 190.06 celcius = 87.81 fahrenheit\n",
      "3 : 24.61 celcius = -4.11 fahrenheit\n",
      "4 : 28.52 celcius = -1.93 fahrenheit\n",
      "5 : 35.09 celcius = 1.71 fahrenheit\n",
      "6 : 39.40 celcius = 4.11 fahrenheit\n",
      "7 : 7.38 celcius = -13.68 fahrenheit\n",
      "8 : 65.14 celcius = 18.41 fahrenheit\n",
      "9 : 70.50 celcius = 21.39 fahrenheit\n",
      "10 : 124.92 celcius = 51.62 fahrenheit\n"
     ]
    }
   ],
   "source": [
    "from random import sample,uniform\n",
    "\n",
    "for i,j in enumerate([uniform(-10,200) for i in range(10)]):\n",
    "    print(\"{0} : {1:.2f} celcius = {2:.2f} fahrenheit\".format(i+1,j,faren_cel(j)))"
   ]
  },
  {
   "cell_type": "markdown",
   "id": "4c086a05",
   "metadata": {},
   "source": [
    "## Exercise 2 :"
   ]
  },
  {
   "cell_type": "markdown",
   "id": "5e8a25e5",
   "metadata": {},
   "source": [
    "### 1. -(9/4) = -2.25"
   ]
  },
  {
   "cell_type": "code",
   "execution_count": 1,
   "id": "f8cc84b6",
   "metadata": {
    "scrolled": false
   },
   "outputs": [
    {
     "data": {
      "text/html": [
       "<img src=\"https://github.com/Enfant01/SCMA342/blob/e0d01de91883711bf3249a4494182b69cab823b2/1.png\" />"
      ],
      "text/plain": [
       "<IPython.core.display.HTML object>"
      ]
     },
     "execution_count": 1,
     "metadata": {},
     "output_type": "execute_result"
    }
   ],
   "source": [
    "from IPython.core.display import HTML\n",
    "HTML('<img src=\"https://github.com/Enfant01/SCMA342/blob/e0d01de91883711bf3249a4494182b69cab823b2/1.png\" />')\n",
    "\n"
   ]
  },
  {
   "cell_type": "markdown",
   "id": "077256a0",
   "metadata": {},
   "source": [
    "![image info](https://github.com/Enfant01/SCMA342/blob/e0d01de91883711bf3249a4494182b69cab823b2/1.png)"
   ]
  },
  {
   "cell_type": "code",
   "execution_count": 76,
   "id": "2e42c414",
   "metadata": {},
   "outputs": [
    {
     "data": {
      "text/html": [
       "<img src=\"2.PNG\">"
      ],
      "text/plain": [
       "<IPython.core.display.HTML object>"
      ]
     },
     "execution_count": 76,
     "metadata": {},
     "output_type": "execute_result"
    }
   ],
   "source": [
    "from IPython.core.display import HTML\n",
    "HTML('<img src=\"2.PNG\">')"
   ]
  },
  {
   "cell_type": "code",
   "execution_count": 3,
   "id": "1d8d5e3b",
   "metadata": {},
   "outputs": [
    {
     "data": {
      "text/plain": [
       "'11000000000100000000000000000000'"
      ]
     },
     "execution_count": 3,
     "metadata": {},
     "output_type": "execute_result"
    }
   ],
   "source": [
    "import bitstring as bi\n",
    "bi.BitArray(float=-(9/4),length=32).bin"
   ]
  },
  {
   "cell_type": "markdown",
   "id": "aaf5f912",
   "metadata": {},
   "source": [
    "### 2. (8/9) = 0.8889"
   ]
  },
  {
   "cell_type": "code",
   "execution_count": 78,
   "id": "4c88b54a",
   "metadata": {},
   "outputs": [
    {
     "data": {
      "text/html": [
       "<img src=\"3.PNG\">"
      ],
      "text/plain": [
       "<IPython.core.display.HTML object>"
      ]
     },
     "execution_count": 78,
     "metadata": {},
     "output_type": "execute_result"
    }
   ],
   "source": [
    "from IPython.core.display import HTML\n",
    "HTML('<img src=\"3.PNG\">')"
   ]
  },
  {
   "cell_type": "code",
   "execution_count": 6,
   "id": "4f64351f",
   "metadata": {},
   "outputs": [
    {
     "data": {
      "text/html": [
       "<img src=\"4.PNG\">"
      ],
      "text/plain": [
       "<IPython.core.display.HTML object>"
      ]
     },
     "execution_count": 6,
     "metadata": {},
     "output_type": "execute_result"
    }
   ],
   "source": [
    "from IPython.core.display import HTML\n",
    "HTML('<img src=\"4.PNG\">')"
   ]
  },
  {
   "cell_type": "code",
   "execution_count": 4,
   "id": "e65f1fff",
   "metadata": {},
   "outputs": [
    {
     "data": {
      "text/plain": [
       "'00111111011000111000111000111001'"
      ]
     },
     "execution_count": 4,
     "metadata": {},
     "output_type": "execute_result"
    }
   ],
   "source": [
    "import bitstring as bi\n",
    "bi.BitArray(float=8/9,length=32).bin"
   ]
  },
  {
   "cell_type": "markdown",
   "id": "ee7b4499",
   "metadata": {},
   "source": [
    "## Exercise 3 :"
   ]
  },
  {
   "cell_type": "code",
   "execution_count": 86,
   "id": "ec2d5c6b",
   "metadata": {
    "scrolled": true
   },
   "outputs": [
    {
     "data": {
      "text/html": [
       "<img src=\"5.PNG\">"
      ],
      "text/plain": [
       "<IPython.core.display.HTML object>"
      ]
     },
     "execution_count": 86,
     "metadata": {},
     "output_type": "execute_result"
    }
   ],
   "source": [
    "HTML('<img src=\"5.PNG\">')"
   ]
  },
  {
   "cell_type": "code",
   "execution_count": 81,
   "id": "ae9b2865",
   "metadata": {},
   "outputs": [
    {
     "data": {
      "text/html": [
       "<img src=\"6.PNG\">"
      ],
      "text/plain": [
       "<IPython.core.display.HTML object>"
      ]
     },
     "execution_count": 81,
     "metadata": {},
     "output_type": "execute_result"
    }
   ],
   "source": [
    "from IPython.core.display import HTML\n",
    "HTML('<img src=\"6.PNG\">')"
   ]
  },
  {
   "cell_type": "code",
   "execution_count": 85,
   "id": "7c30971e",
   "metadata": {},
   "outputs": [
    {
     "name": "stdout",
     "output_type": "stream",
     "text": [
      "Largest positive integer is 3.4028234663852886e+38\n"
     ]
    }
   ],
   "source": [
    "import numpy as np\n",
    "print(\"Largest positive integer is {}\".format(np.finfo(np.single).max))"
   ]
  }
 ],
 "metadata": {
  "kernelspec": {
   "display_name": "Python 3",
   "language": "python",
   "name": "python3"
  },
  "language_info": {
   "codemirror_mode": {
    "name": "ipython",
    "version": 3
   },
   "file_extension": ".py",
   "mimetype": "text/x-python",
   "name": "python",
   "nbconvert_exporter": "python",
   "pygments_lexer": "ipython3",
   "version": "3.8.8"
  }
 },
 "nbformat": 4,
 "nbformat_minor": 5
}
